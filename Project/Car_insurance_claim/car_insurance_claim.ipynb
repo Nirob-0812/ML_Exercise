{
 "cells": [
  {
   "cell_type": "code",
   "execution_count": 131,
   "metadata": {},
   "outputs": [],
   "source": [
    "import pandas as pd\n",
    "from sklearn.preprocessing import LabelEncoder\n",
    "from sklearn.model_selection import train_test_split\n",
    "from sklearn.linear_model import LogisticRegression\n",
    "from sklearn.svm import SVC\n",
    "from sklearn import tree\n",
    "from sklearn.ensemble import RandomForestClassifier\n",
    "from sklearn.metrics import confusion_matrix,classification_report\n",
    "from pretty_confusion_matrix import pp_matrix_from_data\n",
    "import seaborn as sns\n",
    "import matplotlib.pyplot as plt\n",
    "%matplotlib inline"
   ]
  },
  {
   "cell_type": "code",
   "execution_count": 132,
   "metadata": {},
   "outputs": [
    {
     "data": {
      "text/html": [
       "<div>\n",
       "<style scoped>\n",
       "    .dataframe tbody tr th:only-of-type {\n",
       "        vertical-align: middle;\n",
       "    }\n",
       "\n",
       "    .dataframe tbody tr th {\n",
       "        vertical-align: top;\n",
       "    }\n",
       "\n",
       "    .dataframe thead th {\n",
       "        text-align: right;\n",
       "    }\n",
       "</style>\n",
       "<table border=\"1\" class=\"dataframe\">\n",
       "  <thead>\n",
       "    <tr style=\"text-align: right;\">\n",
       "      <th></th>\n",
       "      <th>policy_id</th>\n",
       "      <th>policy_tenure</th>\n",
       "      <th>age_of_car</th>\n",
       "      <th>age_of_policyholder</th>\n",
       "      <th>area_cluster</th>\n",
       "      <th>population_density</th>\n",
       "      <th>make</th>\n",
       "      <th>segment</th>\n",
       "      <th>model</th>\n",
       "      <th>fuel_type</th>\n",
       "      <th>max_torque</th>\n",
       "      <th>max_power</th>\n",
       "      <th>engine_type</th>\n",
       "      <th>airbags</th>\n",
       "      <th>is_esc</th>\n",
       "      <th>is_adjustable_steering</th>\n",
       "      <th>is_tpms</th>\n",
       "      <th>is_parking_sensors</th>\n",
       "      <th>is_parking_camera</th>\n",
       "      <th>rear_brakes_type</th>\n",
       "      <th>displacement</th>\n",
       "      <th>cylinder</th>\n",
       "      <th>transmission_type</th>\n",
       "      <th>gear_box</th>\n",
       "      <th>steering_type</th>\n",
       "      <th>turning_radius</th>\n",
       "      <th>length</th>\n",
       "      <th>width</th>\n",
       "      <th>height</th>\n",
       "      <th>gross_weight</th>\n",
       "      <th>is_front_fog_lights</th>\n",
       "      <th>is_rear_window_wiper</th>\n",
       "      <th>is_rear_window_washer</th>\n",
       "      <th>is_rear_window_defogger</th>\n",
       "      <th>is_brake_assist</th>\n",
       "      <th>is_power_door_locks</th>\n",
       "      <th>is_central_locking</th>\n",
       "      <th>is_power_steering</th>\n",
       "      <th>is_driver_seat_height_adjustable</th>\n",
       "      <th>is_day_night_rear_view_mirror</th>\n",
       "      <th>is_ecw</th>\n",
       "      <th>is_speed_alert</th>\n",
       "      <th>ncap_rating</th>\n",
       "      <th>is_claim</th>\n",
       "    </tr>\n",
       "  </thead>\n",
       "  <tbody>\n",
       "    <tr>\n",
       "      <th>0</th>\n",
       "      <td>ID00001</td>\n",
       "      <td>0.515874</td>\n",
       "      <td>0.05</td>\n",
       "      <td>0.644231</td>\n",
       "      <td>C1</td>\n",
       "      <td>4990</td>\n",
       "      <td>1</td>\n",
       "      <td>A</td>\n",
       "      <td>M1</td>\n",
       "      <td>CNG</td>\n",
       "      <td>60Nm@3500rpm</td>\n",
       "      <td>40.36bhp@6000rpm</td>\n",
       "      <td>F8D Petrol Engine</td>\n",
       "      <td>2</td>\n",
       "      <td>No</td>\n",
       "      <td>No</td>\n",
       "      <td>No</td>\n",
       "      <td>Yes</td>\n",
       "      <td>No</td>\n",
       "      <td>Drum</td>\n",
       "      <td>796</td>\n",
       "      <td>3</td>\n",
       "      <td>Manual</td>\n",
       "      <td>5</td>\n",
       "      <td>Power</td>\n",
       "      <td>4.6</td>\n",
       "      <td>3445</td>\n",
       "      <td>1515</td>\n",
       "      <td>1475</td>\n",
       "      <td>1185</td>\n",
       "      <td>No</td>\n",
       "      <td>No</td>\n",
       "      <td>No</td>\n",
       "      <td>No</td>\n",
       "      <td>No</td>\n",
       "      <td>No</td>\n",
       "      <td>No</td>\n",
       "      <td>Yes</td>\n",
       "      <td>No</td>\n",
       "      <td>No</td>\n",
       "      <td>No</td>\n",
       "      <td>Yes</td>\n",
       "      <td>0</td>\n",
       "      <td>0</td>\n",
       "    </tr>\n",
       "    <tr>\n",
       "      <th>1</th>\n",
       "      <td>ID00002</td>\n",
       "      <td>0.672619</td>\n",
       "      <td>0.02</td>\n",
       "      <td>0.375000</td>\n",
       "      <td>C2</td>\n",
       "      <td>27003</td>\n",
       "      <td>1</td>\n",
       "      <td>A</td>\n",
       "      <td>M1</td>\n",
       "      <td>CNG</td>\n",
       "      <td>60Nm@3500rpm</td>\n",
       "      <td>40.36bhp@6000rpm</td>\n",
       "      <td>F8D Petrol Engine</td>\n",
       "      <td>2</td>\n",
       "      <td>No</td>\n",
       "      <td>No</td>\n",
       "      <td>No</td>\n",
       "      <td>Yes</td>\n",
       "      <td>No</td>\n",
       "      <td>Drum</td>\n",
       "      <td>796</td>\n",
       "      <td>3</td>\n",
       "      <td>Manual</td>\n",
       "      <td>5</td>\n",
       "      <td>Power</td>\n",
       "      <td>4.6</td>\n",
       "      <td>3445</td>\n",
       "      <td>1515</td>\n",
       "      <td>1475</td>\n",
       "      <td>1185</td>\n",
       "      <td>No</td>\n",
       "      <td>No</td>\n",
       "      <td>No</td>\n",
       "      <td>No</td>\n",
       "      <td>No</td>\n",
       "      <td>No</td>\n",
       "      <td>No</td>\n",
       "      <td>Yes</td>\n",
       "      <td>No</td>\n",
       "      <td>No</td>\n",
       "      <td>No</td>\n",
       "      <td>Yes</td>\n",
       "      <td>0</td>\n",
       "      <td>0</td>\n",
       "    </tr>\n",
       "    <tr>\n",
       "      <th>2</th>\n",
       "      <td>ID00003</td>\n",
       "      <td>0.841110</td>\n",
       "      <td>0.02</td>\n",
       "      <td>0.384615</td>\n",
       "      <td>C3</td>\n",
       "      <td>4076</td>\n",
       "      <td>1</td>\n",
       "      <td>A</td>\n",
       "      <td>M1</td>\n",
       "      <td>CNG</td>\n",
       "      <td>60Nm@3500rpm</td>\n",
       "      <td>40.36bhp@6000rpm</td>\n",
       "      <td>F8D Petrol Engine</td>\n",
       "      <td>2</td>\n",
       "      <td>No</td>\n",
       "      <td>No</td>\n",
       "      <td>No</td>\n",
       "      <td>Yes</td>\n",
       "      <td>No</td>\n",
       "      <td>Drum</td>\n",
       "      <td>796</td>\n",
       "      <td>3</td>\n",
       "      <td>Manual</td>\n",
       "      <td>5</td>\n",
       "      <td>Power</td>\n",
       "      <td>4.6</td>\n",
       "      <td>3445</td>\n",
       "      <td>1515</td>\n",
       "      <td>1475</td>\n",
       "      <td>1185</td>\n",
       "      <td>No</td>\n",
       "      <td>No</td>\n",
       "      <td>No</td>\n",
       "      <td>No</td>\n",
       "      <td>No</td>\n",
       "      <td>No</td>\n",
       "      <td>No</td>\n",
       "      <td>Yes</td>\n",
       "      <td>No</td>\n",
       "      <td>No</td>\n",
       "      <td>No</td>\n",
       "      <td>Yes</td>\n",
       "      <td>0</td>\n",
       "      <td>0</td>\n",
       "    </tr>\n",
       "    <tr>\n",
       "      <th>3</th>\n",
       "      <td>ID00004</td>\n",
       "      <td>0.900277</td>\n",
       "      <td>0.11</td>\n",
       "      <td>0.432692</td>\n",
       "      <td>C4</td>\n",
       "      <td>21622</td>\n",
       "      <td>1</td>\n",
       "      <td>C1</td>\n",
       "      <td>M2</td>\n",
       "      <td>Petrol</td>\n",
       "      <td>113Nm@4400rpm</td>\n",
       "      <td>88.50bhp@6000rpm</td>\n",
       "      <td>1.2 L K12N Dualjet</td>\n",
       "      <td>2</td>\n",
       "      <td>Yes</td>\n",
       "      <td>Yes</td>\n",
       "      <td>No</td>\n",
       "      <td>Yes</td>\n",
       "      <td>Yes</td>\n",
       "      <td>Drum</td>\n",
       "      <td>1197</td>\n",
       "      <td>4</td>\n",
       "      <td>Automatic</td>\n",
       "      <td>5</td>\n",
       "      <td>Electric</td>\n",
       "      <td>4.8</td>\n",
       "      <td>3995</td>\n",
       "      <td>1735</td>\n",
       "      <td>1515</td>\n",
       "      <td>1335</td>\n",
       "      <td>Yes</td>\n",
       "      <td>No</td>\n",
       "      <td>No</td>\n",
       "      <td>Yes</td>\n",
       "      <td>Yes</td>\n",
       "      <td>Yes</td>\n",
       "      <td>Yes</td>\n",
       "      <td>Yes</td>\n",
       "      <td>Yes</td>\n",
       "      <td>Yes</td>\n",
       "      <td>Yes</td>\n",
       "      <td>Yes</td>\n",
       "      <td>2</td>\n",
       "      <td>0</td>\n",
       "    </tr>\n",
       "    <tr>\n",
       "      <th>4</th>\n",
       "      <td>ID00005</td>\n",
       "      <td>0.596403</td>\n",
       "      <td>0.11</td>\n",
       "      <td>0.634615</td>\n",
       "      <td>C5</td>\n",
       "      <td>34738</td>\n",
       "      <td>2</td>\n",
       "      <td>A</td>\n",
       "      <td>M3</td>\n",
       "      <td>Petrol</td>\n",
       "      <td>91Nm@4250rpm</td>\n",
       "      <td>67.06bhp@5500rpm</td>\n",
       "      <td>1.0 SCe</td>\n",
       "      <td>2</td>\n",
       "      <td>No</td>\n",
       "      <td>No</td>\n",
       "      <td>No</td>\n",
       "      <td>No</td>\n",
       "      <td>Yes</td>\n",
       "      <td>Drum</td>\n",
       "      <td>999</td>\n",
       "      <td>3</td>\n",
       "      <td>Automatic</td>\n",
       "      <td>5</td>\n",
       "      <td>Electric</td>\n",
       "      <td>5.0</td>\n",
       "      <td>3731</td>\n",
       "      <td>1579</td>\n",
       "      <td>1490</td>\n",
       "      <td>1155</td>\n",
       "      <td>No</td>\n",
       "      <td>No</td>\n",
       "      <td>No</td>\n",
       "      <td>No</td>\n",
       "      <td>No</td>\n",
       "      <td>Yes</td>\n",
       "      <td>Yes</td>\n",
       "      <td>Yes</td>\n",
       "      <td>No</td>\n",
       "      <td>Yes</td>\n",
       "      <td>Yes</td>\n",
       "      <td>Yes</td>\n",
       "      <td>2</td>\n",
       "      <td>0</td>\n",
       "    </tr>\n",
       "  </tbody>\n",
       "</table>\n",
       "</div>"
      ],
      "text/plain": [
       "  policy_id  policy_tenure  age_of_car  age_of_policyholder area_cluster  \\\n",
       "0   ID00001       0.515874        0.05             0.644231           C1   \n",
       "1   ID00002       0.672619        0.02             0.375000           C2   \n",
       "2   ID00003       0.841110        0.02             0.384615           C3   \n",
       "3   ID00004       0.900277        0.11             0.432692           C4   \n",
       "4   ID00005       0.596403        0.11             0.634615           C5   \n",
       "\n",
       "   population_density  make segment model fuel_type     max_torque  \\\n",
       "0                4990     1       A    M1       CNG   60Nm@3500rpm   \n",
       "1               27003     1       A    M1       CNG   60Nm@3500rpm   \n",
       "2                4076     1       A    M1       CNG   60Nm@3500rpm   \n",
       "3               21622     1      C1    M2    Petrol  113Nm@4400rpm   \n",
       "4               34738     2       A    M3    Petrol   91Nm@4250rpm   \n",
       "\n",
       "          max_power         engine_type  airbags is_esc  \\\n",
       "0  40.36bhp@6000rpm   F8D Petrol Engine        2     No   \n",
       "1  40.36bhp@6000rpm   F8D Petrol Engine        2     No   \n",
       "2  40.36bhp@6000rpm   F8D Petrol Engine        2     No   \n",
       "3  88.50bhp@6000rpm  1.2 L K12N Dualjet        2    Yes   \n",
       "4  67.06bhp@5500rpm             1.0 SCe        2     No   \n",
       "\n",
       "  is_adjustable_steering is_tpms is_parking_sensors is_parking_camera  \\\n",
       "0                     No      No                Yes                No   \n",
       "1                     No      No                Yes                No   \n",
       "2                     No      No                Yes                No   \n",
       "3                    Yes      No                Yes               Yes   \n",
       "4                     No      No                 No               Yes   \n",
       "\n",
       "  rear_brakes_type  displacement  cylinder transmission_type  gear_box  \\\n",
       "0             Drum           796         3            Manual         5   \n",
       "1             Drum           796         3            Manual         5   \n",
       "2             Drum           796         3            Manual         5   \n",
       "3             Drum          1197         4         Automatic         5   \n",
       "4             Drum           999         3         Automatic         5   \n",
       "\n",
       "  steering_type  turning_radius  length  width  height  gross_weight  \\\n",
       "0         Power             4.6    3445   1515    1475          1185   \n",
       "1         Power             4.6    3445   1515    1475          1185   \n",
       "2         Power             4.6    3445   1515    1475          1185   \n",
       "3      Electric             4.8    3995   1735    1515          1335   \n",
       "4      Electric             5.0    3731   1579    1490          1155   \n",
       "\n",
       "  is_front_fog_lights is_rear_window_wiper is_rear_window_washer  \\\n",
       "0                  No                   No                    No   \n",
       "1                  No                   No                    No   \n",
       "2                  No                   No                    No   \n",
       "3                 Yes                   No                    No   \n",
       "4                  No                   No                    No   \n",
       "\n",
       "  is_rear_window_defogger is_brake_assist is_power_door_locks  \\\n",
       "0                      No              No                  No   \n",
       "1                      No              No                  No   \n",
       "2                      No              No                  No   \n",
       "3                     Yes             Yes                 Yes   \n",
       "4                      No              No                 Yes   \n",
       "\n",
       "  is_central_locking is_power_steering is_driver_seat_height_adjustable  \\\n",
       "0                 No               Yes                               No   \n",
       "1                 No               Yes                               No   \n",
       "2                 No               Yes                               No   \n",
       "3                Yes               Yes                              Yes   \n",
       "4                Yes               Yes                               No   \n",
       "\n",
       "  is_day_night_rear_view_mirror is_ecw is_speed_alert  ncap_rating  is_claim  \n",
       "0                            No     No            Yes            0         0  \n",
       "1                            No     No            Yes            0         0  \n",
       "2                            No     No            Yes            0         0  \n",
       "3                           Yes    Yes            Yes            2         0  \n",
       "4                           Yes    Yes            Yes            2         0  "
      ]
     },
     "execution_count": 132,
     "metadata": {},
     "output_type": "execute_result"
    }
   ],
   "source": [
    "insurance=pd.read_csv(\"Dataset/insurance_train.csv\")\n",
    "pd.set_option('display.max_columns',None)\n",
    "insurance.head()"
   ]
  },
  {
   "cell_type": "code",
   "execution_count": 133,
   "metadata": {},
   "outputs": [
    {
     "data": {
      "text/plain": [
       "array(['60Nm@3500rpm', '113Nm@4400rpm', '91Nm@4250rpm', '250Nm@2750rpm',\n",
       "       '200Nm@3000rpm', '82.1Nm@3400rpm', '200Nm@1750rpm', '85Nm@3000rpm',\n",
       "       '170Nm@4000rpm'], dtype=object)"
      ]
     },
     "execution_count": 133,
     "metadata": {},
     "output_type": "execute_result"
    }
   ],
   "source": [
    "insurance.max_torque.unique()"
   ]
  },
  {
   "cell_type": "code",
   "execution_count": 134,
   "metadata": {},
   "outputs": [
    {
     "name": "stdout",
     "output_type": "stream",
     "text": [
      "shape: (58592, 44)\n"
     ]
    },
    {
     "data": {
      "text/plain": [
       "policy_id                           0\n",
       "policy_tenure                       0\n",
       "age_of_car                          0\n",
       "age_of_policyholder                 0\n",
       "area_cluster                        0\n",
       "population_density                  0\n",
       "make                                0\n",
       "segment                             0\n",
       "model                               0\n",
       "fuel_type                           0\n",
       "max_torque                          0\n",
       "max_power                           0\n",
       "engine_type                         0\n",
       "airbags                             0\n",
       "is_esc                              0\n",
       "is_adjustable_steering              0\n",
       "is_tpms                             0\n",
       "is_parking_sensors                  0\n",
       "is_parking_camera                   0\n",
       "rear_brakes_type                    0\n",
       "displacement                        0\n",
       "cylinder                            0\n",
       "transmission_type                   0\n",
       "gear_box                            0\n",
       "steering_type                       0\n",
       "turning_radius                      0\n",
       "length                              0\n",
       "width                               0\n",
       "height                              0\n",
       "gross_weight                        0\n",
       "is_front_fog_lights                 0\n",
       "is_rear_window_wiper                0\n",
       "is_rear_window_washer               0\n",
       "is_rear_window_defogger             0\n",
       "is_brake_assist                     0\n",
       "is_power_door_locks                 0\n",
       "is_central_locking                  0\n",
       "is_power_steering                   0\n",
       "is_driver_seat_height_adjustable    0\n",
       "is_day_night_rear_view_mirror       0\n",
       "is_ecw                              0\n",
       "is_speed_alert                      0\n",
       "ncap_rating                         0\n",
       "is_claim                            0\n",
       "dtype: int64"
      ]
     },
     "execution_count": 134,
     "metadata": {},
     "output_type": "execute_result"
    }
   ],
   "source": [
    "print(\"shape:\",insurance.shape)\n",
    "insurance.isnull().sum()"
   ]
  },
  {
   "cell_type": "code",
   "execution_count": 135,
   "metadata": {},
   "outputs": [
    {
     "name": "stdout",
     "output_type": "stream",
     "text": [
      "Area_Cluster: ['C1' 'C2' 'C3' 'C4' 'C5' 'C6' 'C7' 'C8' 'C9' 'C10' 'C11' 'C12' 'C13'\n",
      " 'C14' 'C15' 'C16' 'C17' 'C18' 'C19' 'C20' 'C21' 'C22']\n",
      "Segment: ['A' 'C1' 'C2' 'B2' 'B1' 'Utility']\n",
      "Model: ['M1' 'M2' 'M3' 'M4' 'M5' 'M6' 'M7' 'M8' 'M9' 'M10' 'M11']\n",
      "fuel_type: ['CNG' 'Petrol' 'Diesel']\n",
      "max_torque: ['60Nm@3500rpm' '113Nm@4400rpm' '91Nm@4250rpm' '250Nm@2750rpm'\n",
      " '200Nm@3000rpm' '82.1Nm@3400rpm' '200Nm@1750rpm' '85Nm@3000rpm'\n",
      " '170Nm@4000rpm']\n",
      "max_power: ['40.36bhp@6000rpm' '88.50bhp@6000rpm' '67.06bhp@5500rpm'\n",
      " '113.45bhp@4000rpm' '88.77bhp@4000rpm' '55.92bhp@5300rpm'\n",
      " '97.89bhp@3600rpm' '61.68bhp@6000rpm' '118.36bhp@5500rpm']\n",
      "engine_type: ['F8D Petrol Engine' '1.2 L K12N Dualjet' '1.0 SCe' '1.5 L U2 CRDi'\n",
      " '1.5 Turbocharged Revotorq' 'K Series Dual jet' '1.2 L K Series Engine'\n",
      " 'K10C' 'i-DTEC' 'G12B' '1.5 Turbocharged Revotron']\n",
      "is_esc: ['No' 'Yes']\n",
      "is_adjustable_steering: ['No' 'Yes']\n",
      "is_tpms: ['No' 'Yes']\n",
      "is_parking_sensors: ['Yes' 'No']\n",
      "is_parking_camera: ['No' 'Yes']\n",
      "rear_brakes_type: ['Drum' 'Disc']\n",
      "transmission_type: ['Manual' 'Automatic']\n",
      "steering_type: ['Power' 'Electric' 'Manual']\n",
      "is_front_fog_lights: ['No' 'Yes']\n",
      "is_rear_window_wiper: ['No' 'Yes']\n",
      "is_rear_window_washer: ['No' 'Yes']\n",
      "is_rear_window_defogger: ['No' 'Yes']\n",
      "is_brake_assist: ['No' 'Yes']\n",
      "is_power_door_locks: ['No' 'Yes']\n",
      "is_central_locking: ['No' 'Yes']\n",
      "is_power_steering: ['Yes' 'No']\n",
      "is_driver_seat_height_adjustable: ['No' 'Yes']\n",
      "is_day_night_rear_view_mirror: ['No' 'Yes']\n",
      "is_ecw: ['No' 'Yes']\n",
      "is_speed_alert: ['Yes' 'No']\n"
     ]
    }
   ],
   "source": [
    "#showing how many unique value of text column\n",
    "print(\"Area_Cluster:\",insurance.area_cluster.unique())\n",
    "print(\"Segment:\",insurance.segment.unique())\n",
    "print(\"Model:\",insurance.model.unique())\n",
    "print(\"fuel_type:\",insurance.fuel_type.unique())\n",
    "print(\"max_torque:\",insurance.max_torque.unique())\n",
    "print(\"max_power:\",insurance.max_power.unique())\n",
    "print(\"engine_type:\",insurance.engine_type.unique())\n",
    "print(\"is_esc:\",insurance.is_esc.unique())\n",
    "print(\"is_adjustable_steering:\",insurance.is_adjustable_steering.unique())\n",
    "print(\"is_tpms:\",insurance.is_tpms.unique())\n",
    "print(\"is_parking_sensors:\",insurance.is_parking_sensors.unique())\n",
    "print(\"is_parking_camera:\",insurance.is_parking_camera.unique())\n",
    "print(\"rear_brakes_type:\",insurance.rear_brakes_type.unique())\n",
    "print(\"transmission_type:\",insurance.transmission_type.unique())\n",
    "print(\"steering_type:\",insurance.steering_type.unique())\n",
    "print(\"is_front_fog_lights:\",insurance.is_front_fog_lights.unique())\n",
    "print(\"is_rear_window_wiper:\",insurance.is_rear_window_wiper.unique())\n",
    "print(\"is_rear_window_washer:\",insurance.is_rear_window_washer.unique())\n",
    "print(\"is_rear_window_defogger:\",insurance.is_rear_window_defogger.unique())\n",
    "print(\"is_brake_assist:\",insurance.is_brake_assist.unique())\n",
    "print(\"is_power_door_locks:\",insurance.is_power_door_locks.unique())\n",
    "print(\"is_central_locking:\",insurance.is_central_locking.unique())\n",
    "print(\"is_power_steering:\",insurance.is_power_steering.unique())\n",
    "print(\"is_driver_seat_height_adjustable:\",insurance.is_driver_seat_height_adjustable.unique())\n",
    "print(\"is_day_night_rear_view_mirror:\",insurance.is_day_night_rear_view_mirror.unique())\n",
    "print(\"is_ecw:\",insurance.is_ecw.unique())\n",
    "print(\"is_speed_alert:\",insurance.is_speed_alert.unique())"
   ]
  },
  {
   "cell_type": "code",
   "execution_count": 136,
   "metadata": {},
   "outputs": [
    {
     "data": {
      "text/html": [
       "<div>\n",
       "<style scoped>\n",
       "    .dataframe tbody tr th:only-of-type {\n",
       "        vertical-align: middle;\n",
       "    }\n",
       "\n",
       "    .dataframe tbody tr th {\n",
       "        vertical-align: top;\n",
       "    }\n",
       "\n",
       "    .dataframe thead th {\n",
       "        text-align: right;\n",
       "    }\n",
       "</style>\n",
       "<table border=\"1\" class=\"dataframe\">\n",
       "  <thead>\n",
       "    <tr style=\"text-align: right;\">\n",
       "      <th></th>\n",
       "      <th>policy_id</th>\n",
       "      <th>policy_tenure</th>\n",
       "      <th>age_of_car</th>\n",
       "      <th>age_of_policyholder</th>\n",
       "      <th>area_cluster</th>\n",
       "      <th>population_density</th>\n",
       "      <th>make</th>\n",
       "      <th>segment</th>\n",
       "      <th>model</th>\n",
       "      <th>fuel_type</th>\n",
       "      <th>max_torque</th>\n",
       "      <th>max_power</th>\n",
       "      <th>engine_type</th>\n",
       "      <th>airbags</th>\n",
       "      <th>is_esc</th>\n",
       "      <th>is_adjustable_steering</th>\n",
       "      <th>is_tpms</th>\n",
       "      <th>is_parking_sensors</th>\n",
       "      <th>is_parking_camera</th>\n",
       "      <th>rear_brakes_type</th>\n",
       "      <th>displacement</th>\n",
       "      <th>cylinder</th>\n",
       "      <th>transmission_type</th>\n",
       "      <th>gear_box</th>\n",
       "      <th>steering_type</th>\n",
       "      <th>turning_radius</th>\n",
       "      <th>length</th>\n",
       "      <th>width</th>\n",
       "      <th>height</th>\n",
       "      <th>gross_weight</th>\n",
       "      <th>is_front_fog_lights</th>\n",
       "      <th>is_rear_window_wiper</th>\n",
       "      <th>is_rear_window_washer</th>\n",
       "      <th>is_rear_window_defogger</th>\n",
       "      <th>is_brake_assist</th>\n",
       "      <th>is_power_door_locks</th>\n",
       "      <th>is_central_locking</th>\n",
       "      <th>is_power_steering</th>\n",
       "      <th>is_driver_seat_height_adjustable</th>\n",
       "      <th>is_day_night_rear_view_mirror</th>\n",
       "      <th>is_ecw</th>\n",
       "      <th>is_speed_alert</th>\n",
       "      <th>ncap_rating</th>\n",
       "      <th>is_claim</th>\n",
       "      <th>le_area_cluster</th>\n",
       "      <th>le_segment</th>\n",
       "      <th>le_model</th>\n",
       "      <th>le_fuel_type</th>\n",
       "      <th>le_max_torque</th>\n",
       "      <th>le_max_power</th>\n",
       "      <th>le_engine_type</th>\n",
       "      <th>le_is_esc</th>\n",
       "      <th>le_is_adjustable_steering</th>\n",
       "      <th>le_is_tpms</th>\n",
       "      <th>le_is_parking_sensors</th>\n",
       "      <th>le_is_parking_camera</th>\n",
       "      <th>le_rear_brakes_type</th>\n",
       "      <th>le_transmission_type</th>\n",
       "      <th>le_steering_type</th>\n",
       "      <th>le_is_front_fog_lights</th>\n",
       "      <th>le_is_rear_window_wiper</th>\n",
       "      <th>le_is_rear_window_washer</th>\n",
       "      <th>le_is_rear_window_defogger</th>\n",
       "      <th>le_is_brake_assist</th>\n",
       "      <th>le_is_power_door_locks</th>\n",
       "      <th>le_is_central_locking</th>\n",
       "      <th>le_is_power_steering</th>\n",
       "      <th>le_is_driver_seat_height_adjustable</th>\n",
       "      <th>le_is_day_night_rear_view_mirror</th>\n",
       "      <th>le_is_ecw</th>\n",
       "      <th>le_is_speed_alert</th>\n",
       "    </tr>\n",
       "  </thead>\n",
       "  <tbody>\n",
       "    <tr>\n",
       "      <th>0</th>\n",
       "      <td>ID00001</td>\n",
       "      <td>0.515874</td>\n",
       "      <td>0.05</td>\n",
       "      <td>0.644231</td>\n",
       "      <td>C1</td>\n",
       "      <td>4990</td>\n",
       "      <td>1</td>\n",
       "      <td>A</td>\n",
       "      <td>M1</td>\n",
       "      <td>CNG</td>\n",
       "      <td>60Nm@3500rpm</td>\n",
       "      <td>40.36bhp@6000rpm</td>\n",
       "      <td>F8D Petrol Engine</td>\n",
       "      <td>2</td>\n",
       "      <td>No</td>\n",
       "      <td>No</td>\n",
       "      <td>No</td>\n",
       "      <td>Yes</td>\n",
       "      <td>No</td>\n",
       "      <td>Drum</td>\n",
       "      <td>796</td>\n",
       "      <td>3</td>\n",
       "      <td>Manual</td>\n",
       "      <td>5</td>\n",
       "      <td>Power</td>\n",
       "      <td>4.6</td>\n",
       "      <td>3445</td>\n",
       "      <td>1515</td>\n",
       "      <td>1475</td>\n",
       "      <td>1185</td>\n",
       "      <td>No</td>\n",
       "      <td>No</td>\n",
       "      <td>No</td>\n",
       "      <td>No</td>\n",
       "      <td>No</td>\n",
       "      <td>No</td>\n",
       "      <td>No</td>\n",
       "      <td>Yes</td>\n",
       "      <td>No</td>\n",
       "      <td>No</td>\n",
       "      <td>No</td>\n",
       "      <td>Yes</td>\n",
       "      <td>0</td>\n",
       "      <td>0</td>\n",
       "      <td>0</td>\n",
       "      <td>0</td>\n",
       "      <td>0</td>\n",
       "      <td>0</td>\n",
       "      <td>5</td>\n",
       "      <td>2</td>\n",
       "      <td>6</td>\n",
       "      <td>0</td>\n",
       "      <td>0</td>\n",
       "      <td>0</td>\n",
       "      <td>1</td>\n",
       "      <td>0</td>\n",
       "      <td>1</td>\n",
       "      <td>1</td>\n",
       "      <td>2</td>\n",
       "      <td>0</td>\n",
       "      <td>0</td>\n",
       "      <td>0</td>\n",
       "      <td>0</td>\n",
       "      <td>0</td>\n",
       "      <td>0</td>\n",
       "      <td>0</td>\n",
       "      <td>1</td>\n",
       "      <td>0</td>\n",
       "      <td>0</td>\n",
       "      <td>0</td>\n",
       "      <td>1</td>\n",
       "    </tr>\n",
       "    <tr>\n",
       "      <th>1</th>\n",
       "      <td>ID00002</td>\n",
       "      <td>0.672619</td>\n",
       "      <td>0.02</td>\n",
       "      <td>0.375000</td>\n",
       "      <td>C2</td>\n",
       "      <td>27003</td>\n",
       "      <td>1</td>\n",
       "      <td>A</td>\n",
       "      <td>M1</td>\n",
       "      <td>CNG</td>\n",
       "      <td>60Nm@3500rpm</td>\n",
       "      <td>40.36bhp@6000rpm</td>\n",
       "      <td>F8D Petrol Engine</td>\n",
       "      <td>2</td>\n",
       "      <td>No</td>\n",
       "      <td>No</td>\n",
       "      <td>No</td>\n",
       "      <td>Yes</td>\n",
       "      <td>No</td>\n",
       "      <td>Drum</td>\n",
       "      <td>796</td>\n",
       "      <td>3</td>\n",
       "      <td>Manual</td>\n",
       "      <td>5</td>\n",
       "      <td>Power</td>\n",
       "      <td>4.6</td>\n",
       "      <td>3445</td>\n",
       "      <td>1515</td>\n",
       "      <td>1475</td>\n",
       "      <td>1185</td>\n",
       "      <td>No</td>\n",
       "      <td>No</td>\n",
       "      <td>No</td>\n",
       "      <td>No</td>\n",
       "      <td>No</td>\n",
       "      <td>No</td>\n",
       "      <td>No</td>\n",
       "      <td>Yes</td>\n",
       "      <td>No</td>\n",
       "      <td>No</td>\n",
       "      <td>No</td>\n",
       "      <td>Yes</td>\n",
       "      <td>0</td>\n",
       "      <td>0</td>\n",
       "      <td>11</td>\n",
       "      <td>0</td>\n",
       "      <td>0</td>\n",
       "      <td>0</td>\n",
       "      <td>5</td>\n",
       "      <td>2</td>\n",
       "      <td>6</td>\n",
       "      <td>0</td>\n",
       "      <td>0</td>\n",
       "      <td>0</td>\n",
       "      <td>1</td>\n",
       "      <td>0</td>\n",
       "      <td>1</td>\n",
       "      <td>1</td>\n",
       "      <td>2</td>\n",
       "      <td>0</td>\n",
       "      <td>0</td>\n",
       "      <td>0</td>\n",
       "      <td>0</td>\n",
       "      <td>0</td>\n",
       "      <td>0</td>\n",
       "      <td>0</td>\n",
       "      <td>1</td>\n",
       "      <td>0</td>\n",
       "      <td>0</td>\n",
       "      <td>0</td>\n",
       "      <td>1</td>\n",
       "    </tr>\n",
       "    <tr>\n",
       "      <th>2</th>\n",
       "      <td>ID00003</td>\n",
       "      <td>0.841110</td>\n",
       "      <td>0.02</td>\n",
       "      <td>0.384615</td>\n",
       "      <td>C3</td>\n",
       "      <td>4076</td>\n",
       "      <td>1</td>\n",
       "      <td>A</td>\n",
       "      <td>M1</td>\n",
       "      <td>CNG</td>\n",
       "      <td>60Nm@3500rpm</td>\n",
       "      <td>40.36bhp@6000rpm</td>\n",
       "      <td>F8D Petrol Engine</td>\n",
       "      <td>2</td>\n",
       "      <td>No</td>\n",
       "      <td>No</td>\n",
       "      <td>No</td>\n",
       "      <td>Yes</td>\n",
       "      <td>No</td>\n",
       "      <td>Drum</td>\n",
       "      <td>796</td>\n",
       "      <td>3</td>\n",
       "      <td>Manual</td>\n",
       "      <td>5</td>\n",
       "      <td>Power</td>\n",
       "      <td>4.6</td>\n",
       "      <td>3445</td>\n",
       "      <td>1515</td>\n",
       "      <td>1475</td>\n",
       "      <td>1185</td>\n",
       "      <td>No</td>\n",
       "      <td>No</td>\n",
       "      <td>No</td>\n",
       "      <td>No</td>\n",
       "      <td>No</td>\n",
       "      <td>No</td>\n",
       "      <td>No</td>\n",
       "      <td>Yes</td>\n",
       "      <td>No</td>\n",
       "      <td>No</td>\n",
       "      <td>No</td>\n",
       "      <td>Yes</td>\n",
       "      <td>0</td>\n",
       "      <td>0</td>\n",
       "      <td>15</td>\n",
       "      <td>0</td>\n",
       "      <td>0</td>\n",
       "      <td>0</td>\n",
       "      <td>5</td>\n",
       "      <td>2</td>\n",
       "      <td>6</td>\n",
       "      <td>0</td>\n",
       "      <td>0</td>\n",
       "      <td>0</td>\n",
       "      <td>1</td>\n",
       "      <td>0</td>\n",
       "      <td>1</td>\n",
       "      <td>1</td>\n",
       "      <td>2</td>\n",
       "      <td>0</td>\n",
       "      <td>0</td>\n",
       "      <td>0</td>\n",
       "      <td>0</td>\n",
       "      <td>0</td>\n",
       "      <td>0</td>\n",
       "      <td>0</td>\n",
       "      <td>1</td>\n",
       "      <td>0</td>\n",
       "      <td>0</td>\n",
       "      <td>0</td>\n",
       "      <td>1</td>\n",
       "    </tr>\n",
       "  </tbody>\n",
       "</table>\n",
       "</div>"
      ],
      "text/plain": [
       "  policy_id  policy_tenure  age_of_car  age_of_policyholder area_cluster  \\\n",
       "0   ID00001       0.515874        0.05             0.644231           C1   \n",
       "1   ID00002       0.672619        0.02             0.375000           C2   \n",
       "2   ID00003       0.841110        0.02             0.384615           C3   \n",
       "\n",
       "   population_density  make segment model fuel_type    max_torque  \\\n",
       "0                4990     1       A    M1       CNG  60Nm@3500rpm   \n",
       "1               27003     1       A    M1       CNG  60Nm@3500rpm   \n",
       "2                4076     1       A    M1       CNG  60Nm@3500rpm   \n",
       "\n",
       "          max_power        engine_type  airbags is_esc is_adjustable_steering  \\\n",
       "0  40.36bhp@6000rpm  F8D Petrol Engine        2     No                     No   \n",
       "1  40.36bhp@6000rpm  F8D Petrol Engine        2     No                     No   \n",
       "2  40.36bhp@6000rpm  F8D Petrol Engine        2     No                     No   \n",
       "\n",
       "  is_tpms is_parking_sensors is_parking_camera rear_brakes_type  displacement  \\\n",
       "0      No                Yes                No             Drum           796   \n",
       "1      No                Yes                No             Drum           796   \n",
       "2      No                Yes                No             Drum           796   \n",
       "\n",
       "   cylinder transmission_type  gear_box steering_type  turning_radius  length  \\\n",
       "0         3            Manual         5         Power             4.6    3445   \n",
       "1         3            Manual         5         Power             4.6    3445   \n",
       "2         3            Manual         5         Power             4.6    3445   \n",
       "\n",
       "   width  height  gross_weight is_front_fog_lights is_rear_window_wiper  \\\n",
       "0   1515    1475          1185                  No                   No   \n",
       "1   1515    1475          1185                  No                   No   \n",
       "2   1515    1475          1185                  No                   No   \n",
       "\n",
       "  is_rear_window_washer is_rear_window_defogger is_brake_assist  \\\n",
       "0                    No                      No              No   \n",
       "1                    No                      No              No   \n",
       "2                    No                      No              No   \n",
       "\n",
       "  is_power_door_locks is_central_locking is_power_steering  \\\n",
       "0                  No                 No               Yes   \n",
       "1                  No                 No               Yes   \n",
       "2                  No                 No               Yes   \n",
       "\n",
       "  is_driver_seat_height_adjustable is_day_night_rear_view_mirror is_ecw  \\\n",
       "0                               No                            No     No   \n",
       "1                               No                            No     No   \n",
       "2                               No                            No     No   \n",
       "\n",
       "  is_speed_alert  ncap_rating  is_claim  le_area_cluster  le_segment  \\\n",
       "0            Yes            0         0                0           0   \n",
       "1            Yes            0         0               11           0   \n",
       "2            Yes            0         0               15           0   \n",
       "\n",
       "   le_model  le_fuel_type  le_max_torque  le_max_power  le_engine_type  \\\n",
       "0         0             0              5             2               6   \n",
       "1         0             0              5             2               6   \n",
       "2         0             0              5             2               6   \n",
       "\n",
       "   le_is_esc  le_is_adjustable_steering  le_is_tpms  le_is_parking_sensors  \\\n",
       "0          0                          0           0                      1   \n",
       "1          0                          0           0                      1   \n",
       "2          0                          0           0                      1   \n",
       "\n",
       "   le_is_parking_camera  le_rear_brakes_type  le_transmission_type  \\\n",
       "0                     0                    1                     1   \n",
       "1                     0                    1                     1   \n",
       "2                     0                    1                     1   \n",
       "\n",
       "   le_steering_type  le_is_front_fog_lights  le_is_rear_window_wiper  \\\n",
       "0                 2                       0                        0   \n",
       "1                 2                       0                        0   \n",
       "2                 2                       0                        0   \n",
       "\n",
       "   le_is_rear_window_washer  le_is_rear_window_defogger  le_is_brake_assist  \\\n",
       "0                         0                           0                   0   \n",
       "1                         0                           0                   0   \n",
       "2                         0                           0                   0   \n",
       "\n",
       "   le_is_power_door_locks  le_is_central_locking  le_is_power_steering  \\\n",
       "0                       0                      0                     1   \n",
       "1                       0                      0                     1   \n",
       "2                       0                      0                     1   \n",
       "\n",
       "   le_is_driver_seat_height_adjustable  le_is_day_night_rear_view_mirror  \\\n",
       "0                                    0                                 0   \n",
       "1                                    0                                 0   \n",
       "2                                    0                                 0   \n",
       "\n",
       "   le_is_ecw  le_is_speed_alert  \n",
       "0          0                  1  \n",
       "1          0                  1  \n",
       "2          0                  1  "
      ]
     },
     "execution_count": 136,
     "metadata": {},
     "output_type": "execute_result"
    }
   ],
   "source": [
    "encoder=LabelEncoder()\n",
    "\n",
    "insurance['le_area_cluster']=encoder.fit_transform(insurance['area_cluster'])\n",
    "insurance['le_segment']=encoder.fit_transform(insurance['segment'])\n",
    "insurance['le_model']=encoder.fit_transform(insurance['model'])\n",
    "insurance['le_fuel_type']=encoder.fit_transform(insurance['fuel_type'])\n",
    "insurance['le_max_torque']=encoder.fit_transform(insurance['max_torque'])\n",
    "insurance['le_max_power']=encoder.fit_transform(insurance['max_power'])\n",
    "insurance['le_engine_type']=encoder.fit_transform(insurance['engine_type'])\n",
    "insurance['le_is_esc']=encoder.fit_transform(insurance['is_esc'])\n",
    "insurance['le_is_adjustable_steering']=encoder.fit_transform(insurance['is_adjustable_steering'])\n",
    "insurance['le_is_tpms']=encoder.fit_transform(insurance['is_tpms'])\n",
    "insurance['le_is_parking_sensors']=encoder.fit_transform(insurance['is_parking_sensors'])\n",
    "insurance['le_is_parking_camera']=encoder.fit_transform(insurance['is_parking_camera'])\n",
    "insurance['le_rear_brakes_type']=encoder.fit_transform(insurance['rear_brakes_type'])\n",
    "insurance['le_transmission_type']=encoder.fit_transform(insurance['transmission_type'])\n",
    "insurance['le_steering_type']=encoder.fit_transform(insurance['steering_type'])\n",
    "insurance['le_is_front_fog_lights']=encoder.fit_transform(insurance['is_front_fog_lights'])\n",
    "insurance['le_is_rear_window_wiper']=encoder.fit_transform(insurance['is_rear_window_wiper'])\n",
    "insurance['le_is_rear_window_washer']=encoder.fit_transform(insurance['is_rear_window_washer'])\n",
    "insurance['le_is_rear_window_defogger']=encoder.fit_transform(insurance['is_rear_window_defogger'])\n",
    "insurance['le_is_brake_assist']=encoder.fit_transform(insurance['is_brake_assist'])\n",
    "insurance['le_is_power_door_locks']=encoder.fit_transform(insurance['is_power_door_locks'])\n",
    "insurance['le_is_central_locking']=encoder.fit_transform(insurance['is_central_locking'])\n",
    "insurance['le_is_power_steering']=encoder.fit_transform(insurance['is_power_steering'])\n",
    "insurance['le_is_driver_seat_height_adjustable']=encoder.fit_transform(insurance['is_driver_seat_height_adjustable'])\n",
    "insurance['le_is_day_night_rear_view_mirror']=encoder.fit_transform(insurance['is_day_night_rear_view_mirror'])\n",
    "insurance['le_is_ecw']=encoder.fit_transform(insurance['is_ecw'])\n",
    "insurance['le_is_speed_alert']=encoder.fit_transform(insurance['is_speed_alert'])\n",
    "insurance.head(3)"
   ]
  },
  {
   "cell_type": "code",
   "execution_count": 137,
   "metadata": {},
   "outputs": [
    {
     "data": {
      "text/html": [
       "<div>\n",
       "<style scoped>\n",
       "    .dataframe tbody tr th:only-of-type {\n",
       "        vertical-align: middle;\n",
       "    }\n",
       "\n",
       "    .dataframe tbody tr th {\n",
       "        vertical-align: top;\n",
       "    }\n",
       "\n",
       "    .dataframe thead th {\n",
       "        text-align: right;\n",
       "    }\n",
       "</style>\n",
       "<table border=\"1\" class=\"dataframe\">\n",
       "  <thead>\n",
       "    <tr style=\"text-align: right;\">\n",
       "      <th></th>\n",
       "      <th>policy_tenure</th>\n",
       "      <th>age_of_car</th>\n",
       "      <th>age_of_policyholder</th>\n",
       "      <th>population_density</th>\n",
       "      <th>make</th>\n",
       "      <th>airbags</th>\n",
       "      <th>displacement</th>\n",
       "      <th>cylinder</th>\n",
       "      <th>gear_box</th>\n",
       "      <th>turning_radius</th>\n",
       "      <th>length</th>\n",
       "      <th>width</th>\n",
       "      <th>height</th>\n",
       "      <th>gross_weight</th>\n",
       "      <th>ncap_rating</th>\n",
       "      <th>is_claim</th>\n",
       "      <th>le_area_cluster</th>\n",
       "      <th>le_segment</th>\n",
       "      <th>le_model</th>\n",
       "      <th>le_fuel_type</th>\n",
       "      <th>le_max_torque</th>\n",
       "      <th>le_max_power</th>\n",
       "      <th>le_engine_type</th>\n",
       "      <th>le_is_esc</th>\n",
       "      <th>le_is_adjustable_steering</th>\n",
       "      <th>le_is_tpms</th>\n",
       "      <th>le_is_parking_sensors</th>\n",
       "      <th>le_is_parking_camera</th>\n",
       "      <th>le_rear_brakes_type</th>\n",
       "      <th>le_transmission_type</th>\n",
       "      <th>le_steering_type</th>\n",
       "      <th>le_is_front_fog_lights</th>\n",
       "      <th>le_is_rear_window_wiper</th>\n",
       "      <th>le_is_rear_window_washer</th>\n",
       "      <th>le_is_rear_window_defogger</th>\n",
       "      <th>le_is_brake_assist</th>\n",
       "      <th>le_is_power_door_locks</th>\n",
       "      <th>le_is_central_locking</th>\n",
       "      <th>le_is_power_steering</th>\n",
       "      <th>le_is_driver_seat_height_adjustable</th>\n",
       "      <th>le_is_day_night_rear_view_mirror</th>\n",
       "      <th>le_is_ecw</th>\n",
       "      <th>le_is_speed_alert</th>\n",
       "    </tr>\n",
       "  </thead>\n",
       "  <tbody>\n",
       "    <tr>\n",
       "      <th>0</th>\n",
       "      <td>0.515874</td>\n",
       "      <td>0.05</td>\n",
       "      <td>0.644231</td>\n",
       "      <td>4990</td>\n",
       "      <td>1</td>\n",
       "      <td>2</td>\n",
       "      <td>796</td>\n",
       "      <td>3</td>\n",
       "      <td>5</td>\n",
       "      <td>4.6</td>\n",
       "      <td>3445</td>\n",
       "      <td>1515</td>\n",
       "      <td>1475</td>\n",
       "      <td>1185</td>\n",
       "      <td>0</td>\n",
       "      <td>0</td>\n",
       "      <td>0</td>\n",
       "      <td>0</td>\n",
       "      <td>0</td>\n",
       "      <td>0</td>\n",
       "      <td>5</td>\n",
       "      <td>2</td>\n",
       "      <td>6</td>\n",
       "      <td>0</td>\n",
       "      <td>0</td>\n",
       "      <td>0</td>\n",
       "      <td>1</td>\n",
       "      <td>0</td>\n",
       "      <td>1</td>\n",
       "      <td>1</td>\n",
       "      <td>2</td>\n",
       "      <td>0</td>\n",
       "      <td>0</td>\n",
       "      <td>0</td>\n",
       "      <td>0</td>\n",
       "      <td>0</td>\n",
       "      <td>0</td>\n",
       "      <td>0</td>\n",
       "      <td>1</td>\n",
       "      <td>0</td>\n",
       "      <td>0</td>\n",
       "      <td>0</td>\n",
       "      <td>1</td>\n",
       "    </tr>\n",
       "    <tr>\n",
       "      <th>1</th>\n",
       "      <td>0.672619</td>\n",
       "      <td>0.02</td>\n",
       "      <td>0.375000</td>\n",
       "      <td>27003</td>\n",
       "      <td>1</td>\n",
       "      <td>2</td>\n",
       "      <td>796</td>\n",
       "      <td>3</td>\n",
       "      <td>5</td>\n",
       "      <td>4.6</td>\n",
       "      <td>3445</td>\n",
       "      <td>1515</td>\n",
       "      <td>1475</td>\n",
       "      <td>1185</td>\n",
       "      <td>0</td>\n",
       "      <td>0</td>\n",
       "      <td>11</td>\n",
       "      <td>0</td>\n",
       "      <td>0</td>\n",
       "      <td>0</td>\n",
       "      <td>5</td>\n",
       "      <td>2</td>\n",
       "      <td>6</td>\n",
       "      <td>0</td>\n",
       "      <td>0</td>\n",
       "      <td>0</td>\n",
       "      <td>1</td>\n",
       "      <td>0</td>\n",
       "      <td>1</td>\n",
       "      <td>1</td>\n",
       "      <td>2</td>\n",
       "      <td>0</td>\n",
       "      <td>0</td>\n",
       "      <td>0</td>\n",
       "      <td>0</td>\n",
       "      <td>0</td>\n",
       "      <td>0</td>\n",
       "      <td>0</td>\n",
       "      <td>1</td>\n",
       "      <td>0</td>\n",
       "      <td>0</td>\n",
       "      <td>0</td>\n",
       "      <td>1</td>\n",
       "    </tr>\n",
       "    <tr>\n",
       "      <th>2</th>\n",
       "      <td>0.841110</td>\n",
       "      <td>0.02</td>\n",
       "      <td>0.384615</td>\n",
       "      <td>4076</td>\n",
       "      <td>1</td>\n",
       "      <td>2</td>\n",
       "      <td>796</td>\n",
       "      <td>3</td>\n",
       "      <td>5</td>\n",
       "      <td>4.6</td>\n",
       "      <td>3445</td>\n",
       "      <td>1515</td>\n",
       "      <td>1475</td>\n",
       "      <td>1185</td>\n",
       "      <td>0</td>\n",
       "      <td>0</td>\n",
       "      <td>15</td>\n",
       "      <td>0</td>\n",
       "      <td>0</td>\n",
       "      <td>0</td>\n",
       "      <td>5</td>\n",
       "      <td>2</td>\n",
       "      <td>6</td>\n",
       "      <td>0</td>\n",
       "      <td>0</td>\n",
       "      <td>0</td>\n",
       "      <td>1</td>\n",
       "      <td>0</td>\n",
       "      <td>1</td>\n",
       "      <td>1</td>\n",
       "      <td>2</td>\n",
       "      <td>0</td>\n",
       "      <td>0</td>\n",
       "      <td>0</td>\n",
       "      <td>0</td>\n",
       "      <td>0</td>\n",
       "      <td>0</td>\n",
       "      <td>0</td>\n",
       "      <td>1</td>\n",
       "      <td>0</td>\n",
       "      <td>0</td>\n",
       "      <td>0</td>\n",
       "      <td>1</td>\n",
       "    </tr>\n",
       "    <tr>\n",
       "      <th>3</th>\n",
       "      <td>0.900277</td>\n",
       "      <td>0.11</td>\n",
       "      <td>0.432692</td>\n",
       "      <td>21622</td>\n",
       "      <td>1</td>\n",
       "      <td>2</td>\n",
       "      <td>1197</td>\n",
       "      <td>4</td>\n",
       "      <td>5</td>\n",
       "      <td>4.8</td>\n",
       "      <td>3995</td>\n",
       "      <td>1735</td>\n",
       "      <td>1515</td>\n",
       "      <td>1335</td>\n",
       "      <td>2</td>\n",
       "      <td>0</td>\n",
       "      <td>16</td>\n",
       "      <td>3</td>\n",
       "      <td>3</td>\n",
       "      <td>2</td>\n",
       "      <td>0</td>\n",
       "      <td>6</td>\n",
       "      <td>2</td>\n",
       "      <td>1</td>\n",
       "      <td>1</td>\n",
       "      <td>0</td>\n",
       "      <td>1</td>\n",
       "      <td>1</td>\n",
       "      <td>1</td>\n",
       "      <td>0</td>\n",
       "      <td>0</td>\n",
       "      <td>1</td>\n",
       "      <td>0</td>\n",
       "      <td>0</td>\n",
       "      <td>1</td>\n",
       "      <td>1</td>\n",
       "      <td>1</td>\n",
       "      <td>1</td>\n",
       "      <td>1</td>\n",
       "      <td>1</td>\n",
       "      <td>1</td>\n",
       "      <td>1</td>\n",
       "      <td>1</td>\n",
       "    </tr>\n",
       "    <tr>\n",
       "      <th>4</th>\n",
       "      <td>0.596403</td>\n",
       "      <td>0.11</td>\n",
       "      <td>0.634615</td>\n",
       "      <td>34738</td>\n",
       "      <td>2</td>\n",
       "      <td>2</td>\n",
       "      <td>999</td>\n",
       "      <td>3</td>\n",
       "      <td>5</td>\n",
       "      <td>5.0</td>\n",
       "      <td>3731</td>\n",
       "      <td>1579</td>\n",
       "      <td>1490</td>\n",
       "      <td>1155</td>\n",
       "      <td>2</td>\n",
       "      <td>0</td>\n",
       "      <td>17</td>\n",
       "      <td>0</td>\n",
       "      <td>4</td>\n",
       "      <td>2</td>\n",
       "      <td>8</td>\n",
       "      <td>5</td>\n",
       "      <td>0</td>\n",
       "      <td>0</td>\n",
       "      <td>0</td>\n",
       "      <td>0</td>\n",
       "      <td>0</td>\n",
       "      <td>1</td>\n",
       "      <td>1</td>\n",
       "      <td>0</td>\n",
       "      <td>0</td>\n",
       "      <td>0</td>\n",
       "      <td>0</td>\n",
       "      <td>0</td>\n",
       "      <td>0</td>\n",
       "      <td>0</td>\n",
       "      <td>1</td>\n",
       "      <td>1</td>\n",
       "      <td>1</td>\n",
       "      <td>0</td>\n",
       "      <td>1</td>\n",
       "      <td>1</td>\n",
       "      <td>1</td>\n",
       "    </tr>\n",
       "  </tbody>\n",
       "</table>\n",
       "</div>"
      ],
      "text/plain": [
       "   policy_tenure  age_of_car  age_of_policyholder  population_density  make  \\\n",
       "0       0.515874        0.05             0.644231                4990     1   \n",
       "1       0.672619        0.02             0.375000               27003     1   \n",
       "2       0.841110        0.02             0.384615                4076     1   \n",
       "3       0.900277        0.11             0.432692               21622     1   \n",
       "4       0.596403        0.11             0.634615               34738     2   \n",
       "\n",
       "   airbags  displacement  cylinder  gear_box  turning_radius  length  width  \\\n",
       "0        2           796         3         5             4.6    3445   1515   \n",
       "1        2           796         3         5             4.6    3445   1515   \n",
       "2        2           796         3         5             4.6    3445   1515   \n",
       "3        2          1197         4         5             4.8    3995   1735   \n",
       "4        2           999         3         5             5.0    3731   1579   \n",
       "\n",
       "   height  gross_weight  ncap_rating  is_claim  le_area_cluster  le_segment  \\\n",
       "0    1475          1185            0         0                0           0   \n",
       "1    1475          1185            0         0               11           0   \n",
       "2    1475          1185            0         0               15           0   \n",
       "3    1515          1335            2         0               16           3   \n",
       "4    1490          1155            2         0               17           0   \n",
       "\n",
       "   le_model  le_fuel_type  le_max_torque  le_max_power  le_engine_type  \\\n",
       "0         0             0              5             2               6   \n",
       "1         0             0              5             2               6   \n",
       "2         0             0              5             2               6   \n",
       "3         3             2              0             6               2   \n",
       "4         4             2              8             5               0   \n",
       "\n",
       "   le_is_esc  le_is_adjustable_steering  le_is_tpms  le_is_parking_sensors  \\\n",
       "0          0                          0           0                      1   \n",
       "1          0                          0           0                      1   \n",
       "2          0                          0           0                      1   \n",
       "3          1                          1           0                      1   \n",
       "4          0                          0           0                      0   \n",
       "\n",
       "   le_is_parking_camera  le_rear_brakes_type  le_transmission_type  \\\n",
       "0                     0                    1                     1   \n",
       "1                     0                    1                     1   \n",
       "2                     0                    1                     1   \n",
       "3                     1                    1                     0   \n",
       "4                     1                    1                     0   \n",
       "\n",
       "   le_steering_type  le_is_front_fog_lights  le_is_rear_window_wiper  \\\n",
       "0                 2                       0                        0   \n",
       "1                 2                       0                        0   \n",
       "2                 2                       0                        0   \n",
       "3                 0                       1                        0   \n",
       "4                 0                       0                        0   \n",
       "\n",
       "   le_is_rear_window_washer  le_is_rear_window_defogger  le_is_brake_assist  \\\n",
       "0                         0                           0                   0   \n",
       "1                         0                           0                   0   \n",
       "2                         0                           0                   0   \n",
       "3                         0                           1                   1   \n",
       "4                         0                           0                   0   \n",
       "\n",
       "   le_is_power_door_locks  le_is_central_locking  le_is_power_steering  \\\n",
       "0                       0                      0                     1   \n",
       "1                       0                      0                     1   \n",
       "2                       0                      0                     1   \n",
       "3                       1                      1                     1   \n",
       "4                       1                      1                     1   \n",
       "\n",
       "   le_is_driver_seat_height_adjustable  le_is_day_night_rear_view_mirror  \\\n",
       "0                                    0                                 0   \n",
       "1                                    0                                 0   \n",
       "2                                    0                                 0   \n",
       "3                                    1                                 1   \n",
       "4                                    0                                 1   \n",
       "\n",
       "   le_is_ecw  le_is_speed_alert  \n",
       "0          0                  1  \n",
       "1          0                  1  \n",
       "2          0                  1  \n",
       "3          1                  1  \n",
       "4          1                  1  "
      ]
     },
     "execution_count": 137,
     "metadata": {},
     "output_type": "execute_result"
    }
   ],
   "source": [
    "le_insurance=insurance.drop(['policy_id','area_cluster','segment','model','fuel_type','max_torque','max_power','engine_type','is_esc','is_adjustable_steering','is_tpms','is_parking_sensors','is_parking_camera','rear_brakes_type','transmission_type','steering_type','is_front_fog_lights','is_rear_window_wiper','is_rear_window_washer','is_rear_window_defogger','is_brake_assist','is_power_door_locks','is_central_locking','is_power_steering','is_driver_seat_height_adjustable','is_day_night_rear_view_mirror','is_ecw','is_speed_alert'],axis=1)\n",
    "le_insurance.head()"
   ]
  },
  {
   "cell_type": "code",
   "execution_count": 138,
   "metadata": {},
   "outputs": [],
   "source": [
    "x=le_insurance.drop('is_claim',axis=1)\n",
    "y=le_insurance.is_claim"
   ]
  },
  {
   "cell_type": "code",
   "execution_count": 139,
   "metadata": {},
   "outputs": [
    {
     "data": {
      "text/plain": [
       "58592"
      ]
     },
     "execution_count": 139,
     "metadata": {},
     "output_type": "execute_result"
    }
   ],
   "source": [
    "len(y)"
   ]
  },
  {
   "cell_type": "code",
   "execution_count": 140,
   "metadata": {},
   "outputs": [
    {
     "data": {
      "text/plain": [
       "0    54844\n",
       "1     3748\n",
       "Name: is_claim, dtype: int64"
      ]
     },
     "execution_count": 140,
     "metadata": {},
     "output_type": "execute_result"
    }
   ],
   "source": [
    "y.value_counts()"
   ]
  },
  {
   "cell_type": "code",
   "execution_count": 141,
   "metadata": {},
   "outputs": [
    {
     "name": "stderr",
     "output_type": "stream",
     "text": [
      "f:\\Code\\ML_Exercise\\venv\\lib\\site-packages\\seaborn\\_decorators.py:36: FutureWarning: Pass the following variable as a keyword arg: x. From version 0.12, the only valid positional argument will be `data`, and passing other arguments without an explicit keyword will result in an error or misinterpretation.\n",
      "  warnings.warn(\n"
     ]
    },
    {
     "data": {
      "text/plain": [
       "<Axes: xlabel='is_claim', ylabel='count'>"
      ]
     },
     "execution_count": 141,
     "metadata": {},
     "output_type": "execute_result"
    },
    {
     "data": {
      "image/png": "[encoded data removed]",
      "text/plain": [
       "<Figure size 640x480 with 1 Axes>"
      ]
     },
     "metadata": {},
     "output_type": "display_data"
    }
   ],
   "source": [
    "sns.countplot(le_insurance[\"is_claim\"])"
   ]
  },
  {
   "attachments": {},
   "cell_type": "markdown",
   "metadata": {},
   "source": [
    "#Random Forest"
   ]
  },
  {
   "cell_type": "code",
   "execution_count": 142,
   "metadata": {},
   "outputs": [
    {
     "data": {
      "text/html": [
       "<style>#sk-container-id-13 {color: black;background-color: white;}#sk-container-id-13 pre{padding: 0;}#sk-container-id-13 div.sk-toggleable {background-color: white;}#sk-container-id-13 label.sk-toggleable__label {cursor: pointer;display: block;width: 100%;margin-bottom: 0;padding: 0.3em;box-sizing: border-box;text-align: center;}#sk-container-id-13 label.sk-toggleable__label-arrow:before {content: \"▸\";float: left;margin-right: 0.25em;color: #696969;}#sk-container-id-13 label.sk-toggleable__label-arrow:hover:before {color: black;}#sk-container-id-13 div.sk-estimator:hover label.sk-toggleable__label-arrow:before {color: black;}#sk-container-id-13 div.sk-toggleable__content {max-height: 0;max-width: 0;overflow: hidden;text-align: left;background-color: #f0f8ff;}#sk-container-id-13 div.sk-toggleable__content pre {margin: 0.2em;color: black;border-radius: 0.25em;background-color: #f0f8ff;}#sk-container-id-13 input.sk-toggleable__control:checked~div.sk-toggleable__content {max-height: 200px;max-width: 100%;overflow: auto;}#sk-container-id-13 input.sk-toggleable__control:checked~label.sk-toggleable__label-arrow:before {content: \"▾\";}#sk-container-id-13 div.sk-estimator input.sk-toggleable__control:checked~label.sk-toggleable__label {background-color: #d4ebff;}#sk-container-id-13 div.sk-label input.sk-toggleable__control:checked~label.sk-toggleable__label {background-color: #d4ebff;}#sk-container-id-13 input.sk-hidden--visually {border: 0;clip: rect(1px 1px 1px 1px);clip: rect(1px, 1px, 1px, 1px);height: 1px;margin: -1px;overflow: hidden;padding: 0;position: absolute;width: 1px;}#sk-container-id-13 div.sk-estimator {font-family: monospace;background-color: #f0f8ff;border: 1px dotted black;border-radius: 0.25em;box-sizing: border-box;margin-bottom: 0.5em;}#sk-container-id-13 div.sk-estimator:hover {background-color: #d4ebff;}#sk-container-id-13 div.sk-parallel-item::after {content: \"\";width: 100%;border-bottom: 1px solid gray;flex-grow: 1;}#sk-container-id-13 div.sk-label:hover label.sk-toggleable__label {background-color: #d4ebff;}#sk-container-id-13 div.sk-serial::before {content: \"\";position: absolute;border-left: 1px solid gray;box-sizing: border-box;top: 0;bottom: 0;left: 50%;z-index: 0;}#sk-container-id-13 div.sk-serial {display: flex;flex-direction: column;align-items: center;background-color: white;padding-right: 0.2em;padding-left: 0.2em;position: relative;}#sk-container-id-13 div.sk-item {position: relative;z-index: 1;}#sk-container-id-13 div.sk-parallel {display: flex;align-items: stretch;justify-content: center;background-color: white;position: relative;}#sk-container-id-13 div.sk-item::before, #sk-container-id-13 div.sk-parallel-item::before {content: \"\";position: absolute;border-left: 1px solid gray;box-sizing: border-box;top: 0;bottom: 0;left: 50%;z-index: -1;}#sk-container-id-13 div.sk-parallel-item {display: flex;flex-direction: column;z-index: 1;position: relative;background-color: white;}#sk-container-id-13 div.sk-parallel-item:first-child::after {align-self: flex-end;width: 50%;}#sk-container-id-13 div.sk-parallel-item:last-child::after {align-self: flex-start;width: 50%;}#sk-container-id-13 div.sk-parallel-item:only-child::after {width: 0;}#sk-container-id-13 div.sk-dashed-wrapped {border: 1px dashed gray;margin: 0 0.4em 0.5em 0.4em;box-sizing: border-box;padding-bottom: 0.4em;background-color: white;}#sk-container-id-13 div.sk-label label {font-family: monospace;font-weight: bold;display: inline-block;line-height: 1.2em;}#sk-container-id-13 div.sk-label-container {text-align: center;}#sk-container-id-13 div.sk-container {/* jupyter's `normalize.less` sets `[hidden] { display: none; }` but bootstrap.min.css set `[hidden] { display: none !important; }` so we also need the `!important` here to be able to override the default hidden behavior on the sphinx rendered scikit-learn.org. See: https://github.com/scikit-learn/scikit-learn/issues/21755 */display: inline-block !important;position: relative;}#sk-container-id-13 div.sk-text-repr-fallback {display: none;}</style><div id=\"sk-container-id-13\" class=\"sk-top-container\"><div class=\"sk-text-repr-fallback\"><pre>RandomForestClassifier(n_estimators=30)</pre><b>In a Jupyter environment, please rerun this cell to show the HTML representation or trust the notebook. <br />On GitHub, the HTML representation is unable to render, please try loading this page with nbviewer.org.</b></div><div class=\"sk-container\" hidden><div class=\"sk-item\"><div class=\"sk-estimator sk-toggleable\"><input class=\"sk-toggleable__control sk-hidden--visually\" id=\"sk-estimator-id-13\" type=\"checkbox\" checked><label for=\"sk-estimator-id-13\" class=\"sk-toggleable__label sk-toggleable__label-arrow\">RandomForestClassifier</label><div class=\"sk-toggleable__content\"><pre>RandomForestClassifier(n_estimators=30)</pre></div></div></div></div></div>"
      ],
      "text/plain": [
       "RandomForestClassifier(n_estimators=30)"
      ]
     },
     "execution_count": 142,
     "metadata": {},
     "output_type": "execute_result"
    }
   ],
   "source": [
    "random_forest_model=RandomForestClassifier(n_estimators=30)\n",
    "X_train,X_test,y_train,y_test=train_test_split(x,y,test_size=0.3)\n",
    "random_forest_model.fit(X_train,y_train)"
   ]
  },
  {
   "cell_type": "code",
   "execution_count": 143,
   "metadata": {},
   "outputs": [
    {
     "name": "stdout",
     "output_type": "stream",
     "text": [
      "Train Size (41014, 42)\n",
      "Test Size (17578, 42)\n"
     ]
    }
   ],
   "source": [
    "print(\"Train Size\",X_train.shape)\n",
    "print(\"Test Size\",X_test.shape)"
   ]
  },
  {
   "cell_type": "code",
   "execution_count": 144,
   "metadata": {},
   "outputs": [
    {
     "data": {
      "text/plain": [
       "0.9288883832062805"
      ]
     },
     "execution_count": 144,
     "metadata": {},
     "output_type": "execute_result"
    }
   ],
   "source": [
    "acc_random_forest=random_forest_model.score(X_test,y_test)\n",
    "acc_random_forest"
   ]
  },
  {
   "cell_type": "code",
   "execution_count": 145,
   "metadata": {
    "vscode": {
     "languageId": "javascript"
    }
   },
   "outputs": [
    {
     "name": "stdout",
     "output_type": "stream",
     "text": [
      "Actual Outcome: 1\n"
     ]
    },
    {
     "name": "stderr",
     "output_type": "stream",
     "text": [
      "f:\\Code\\ML_Exercise\\venv\\lib\\site-packages\\sklearn\\base.py:439: UserWarning: X does not have valid feature names, but RandomForestClassifier was fitted with feature names\n",
      "  warnings.warn(\n"
     ]
    },
    {
     "data": {
      "text/plain": [
       "array([0], dtype=int64)"
      ]
     },
     "execution_count": 145,
     "metadata": {},
     "output_type": "execute_result"
    }
   ],
   "source": [
    "row=x.iloc[19].values\n",
    "print(\"Actual Outcome:\",y[19])\n",
    "random_forest_model.predict([row])"
   ]
  },
  {
   "cell_type": "code",
   "execution_count": 146,
   "metadata": {},
   "outputs": [
    {
     "data": {
      "text/plain": [
       "array([[16320,    74],\n",
       "       [ 1176,     8]], dtype=int64)"
      ]
     },
     "execution_count": 146,
     "metadata": {},
     "output_type": "execute_result"
    }
   ],
   "source": [
    "y_predicted=random_forest_model.predict(X_test)\n",
    "cm=confusion_matrix(y_test,y_predicted)\n",
    "cm"
   ]
  },
  {
   "cell_type": "code",
   "execution_count": 147,
   "metadata": {},
   "outputs": [
    {
     "data": {
      "text/plain": [
       "Text(50.722222222222214, 0.5, 'Actual')"
      ]
     },
     "execution_count": 147,
     "metadata": {},
     "output_type": "execute_result"
    },
    {
     "data": {
      "image/png": "[encoded data removed]",
      "text/plain": [
       "<Figure size 640x480 with 2 Axes>"
      ]
     },
     "metadata": {},
     "output_type": "display_data"
    }
   ],
   "source": [
    "sns.heatmap(cm,annot=True,fmt='d')\n",
    "plt.xlabel(\"Predicted\")\n",
    "plt.ylabel(\"Actual\")"
   ]
  },
  {
   "cell_type": "code",
   "execution_count": 148,
   "metadata": {},
   "outputs": [
    {
     "name": "stdout",
     "output_type": "stream",
     "text": [
      "              precision    recall  f1-score   support\n",
      "\n",
      "           0       0.93      1.00      0.96     16394\n",
      "           1       0.10      0.01      0.01      1184\n",
      "\n",
      "    accuracy                           0.93     17578\n",
      "   macro avg       0.52      0.50      0.49     17578\n",
      "weighted avg       0.88      0.93      0.90     17578\n",
      "\n"
     ]
    }
   ],
   "source": [
    "print(classification_report(y_test, y_predicted))"
   ]
  },
  {
   "attachments": {},
   "cell_type": "markdown",
   "metadata": {},
   "source": [
    "#Decision Tree"
   ]
  },
  {
   "cell_type": "code",
   "execution_count": 149,
   "metadata": {},
   "outputs": [
    {
     "data": {
      "text/html": [
       "<style>#sk-container-id-14 {color: black;background-color: white;}#sk-container-id-14 pre{padding: 0;}#sk-container-id-14 div.sk-toggleable {background-color: white;}#sk-container-id-14 label.sk-toggleable__label {cursor: pointer;display: block;width: 100%;margin-bottom: 0;padding: 0.3em;box-sizing: border-box;text-align: center;}#sk-container-id-14 label.sk-toggleable__label-arrow:before {content: \"▸\";float: left;margin-right: 0.25em;color: #696969;}#sk-container-id-14 label.sk-toggleable__label-arrow:hover:before {color: black;}#sk-container-id-14 div.sk-estimator:hover label.sk-toggleable__label-arrow:before {color: black;}#sk-container-id-14 div.sk-toggleable__content {max-height: 0;max-width: 0;overflow: hidden;text-align: left;background-color: #f0f8ff;}#sk-container-id-14 div.sk-toggleable__content pre {margin: 0.2em;color: black;border-radius: 0.25em;background-color: #f0f8ff;}#sk-container-id-14 input.sk-toggleable__control:checked~div.sk-toggleable__content {max-height: 200px;max-width: 100%;overflow: auto;}#sk-container-id-14 input.sk-toggleable__control:checked~label.sk-toggleable__label-arrow:before {content: \"▾\";}#sk-container-id-14 div.sk-estimator input.sk-toggleable__control:checked~label.sk-toggleable__label {background-color: #d4ebff;}#sk-container-id-14 div.sk-label input.sk-toggleable__control:checked~label.sk-toggleable__label {background-color: #d4ebff;}#sk-container-id-14 input.sk-hidden--visually {border: 0;clip: rect(1px 1px 1px 1px);clip: rect(1px, 1px, 1px, 1px);height: 1px;margin: -1px;overflow: hidden;padding: 0;position: absolute;width: 1px;}#sk-container-id-14 div.sk-estimator {font-family: monospace;background-color: #f0f8ff;border: 1px dotted black;border-radius: 0.25em;box-sizing: border-box;margin-bottom: 0.5em;}#sk-container-id-14 div.sk-estimator:hover {background-color: #d4ebff;}#sk-container-id-14 div.sk-parallel-item::after {content: \"\";width: 100%;border-bottom: 1px solid gray;flex-grow: 1;}#sk-container-id-14 div.sk-label:hover label.sk-toggleable__label {background-color: #d4ebff;}#sk-container-id-14 div.sk-serial::before {content: \"\";position: absolute;border-left: 1px solid gray;box-sizing: border-box;top: 0;bottom: 0;left: 50%;z-index: 0;}#sk-container-id-14 div.sk-serial {display: flex;flex-direction: column;align-items: center;background-color: white;padding-right: 0.2em;padding-left: 0.2em;position: relative;}#sk-container-id-14 div.sk-item {position: relative;z-index: 1;}#sk-container-id-14 div.sk-parallel {display: flex;align-items: stretch;justify-content: center;background-color: white;position: relative;}#sk-container-id-14 div.sk-item::before, #sk-container-id-14 div.sk-parallel-item::before {content: \"\";position: absolute;border-left: 1px solid gray;box-sizing: border-box;top: 0;bottom: 0;left: 50%;z-index: -1;}#sk-container-id-14 div.sk-parallel-item {display: flex;flex-direction: column;z-index: 1;position: relative;background-color: white;}#sk-container-id-14 div.sk-parallel-item:first-child::after {align-self: flex-end;width: 50%;}#sk-container-id-14 div.sk-parallel-item:last-child::after {align-self: flex-start;width: 50%;}#sk-container-id-14 div.sk-parallel-item:only-child::after {width: 0;}#sk-container-id-14 div.sk-dashed-wrapped {border: 1px dashed gray;margin: 0 0.4em 0.5em 0.4em;box-sizing: border-box;padding-bottom: 0.4em;background-color: white;}#sk-container-id-14 div.sk-label label {font-family: monospace;font-weight: bold;display: inline-block;line-height: 1.2em;}#sk-container-id-14 div.sk-label-container {text-align: center;}#sk-container-id-14 div.sk-container {/* jupyter's `normalize.less` sets `[hidden] { display: none; }` but bootstrap.min.css set `[hidden] { display: none !important; }` so we also need the `!important` here to be able to override the default hidden behavior on the sphinx rendered scikit-learn.org. See: https://github.com/scikit-learn/scikit-learn/issues/21755 */display: inline-block !important;position: relative;}#sk-container-id-14 div.sk-text-repr-fallback {display: none;}</style><div id=\"sk-container-id-14\" class=\"sk-top-container\"><div class=\"sk-text-repr-fallback\"><pre>DecisionTreeClassifier()</pre><b>In a Jupyter environment, please rerun this cell to show the HTML representation or trust the notebook. <br />On GitHub, the HTML representation is unable to render, please try loading this page with nbviewer.org.</b></div><div class=\"sk-container\" hidden><div class=\"sk-item\"><div class=\"sk-estimator sk-toggleable\"><input class=\"sk-toggleable__control sk-hidden--visually\" id=\"sk-estimator-id-14\" type=\"checkbox\" checked><label for=\"sk-estimator-id-14\" class=\"sk-toggleable__label sk-toggleable__label-arrow\">DecisionTreeClassifier</label><div class=\"sk-toggleable__content\"><pre>DecisionTreeClassifier()</pre></div></div></div></div></div>"
      ],
      "text/plain": [
       "DecisionTreeClassifier()"
      ]
     },
     "execution_count": 149,
     "metadata": {},
     "output_type": "execute_result"
    }
   ],
   "source": [
    "decision_tree_model=tree.DecisionTreeClassifier()\n",
    "decision_tree_model.fit(x,y)"
   ]
  },
  {
   "cell_type": "code",
   "execution_count": 150,
   "metadata": {},
   "outputs": [
    {
     "data": {
      "text/plain": [
       "1.0"
      ]
     },
     "execution_count": 150,
     "metadata": {},
     "output_type": "execute_result"
    }
   ],
   "source": [
    "acc_decision_tree= decision_tree_model.score(x,y)\n",
    "acc_decision_tree"
   ]
  },
  {
   "cell_type": "code",
   "execution_count": 151,
   "metadata": {},
   "outputs": [
    {
     "name": "stdout",
     "output_type": "stream",
     "text": [
      "Actual Outcome: 1\n",
      "Value of entire row: [5.27085217e-01 0.00000000e+00 6.15384615e-01 2.16220000e+04\n",
      " 1.00000000e+00 2.00000000e+00 7.96000000e+02 3.00000000e+00\n",
      " 5.00000000e+00 4.60000000e+00 3.44500000e+03 1.51500000e+03\n",
      " 1.47500000e+03 1.18500000e+03 0.00000000e+00 1.60000000e+01\n",
      " 0.00000000e+00 0.00000000e+00 0.00000000e+00 5.00000000e+00\n",
      " 2.00000000e+00 6.00000000e+00 0.00000000e+00 0.00000000e+00\n",
      " 0.00000000e+00 1.00000000e+00 0.00000000e+00 1.00000000e+00\n",
      " 1.00000000e+00 2.00000000e+00 0.00000000e+00 0.00000000e+00\n",
      " 0.00000000e+00 0.00000000e+00 0.00000000e+00 0.00000000e+00\n",
      " 0.00000000e+00 1.00000000e+00 0.00000000e+00 0.00000000e+00\n",
      " 0.00000000e+00 1.00000000e+00] \n",
      "\n",
      "Prediction:  [1]\n"
     ]
    },
    {
     "name": "stderr",
     "output_type": "stream",
     "text": [
      "f:\\Code\\ML_Exercise\\venv\\lib\\site-packages\\sklearn\\base.py:439: UserWarning: X does not have valid feature names, but DecisionTreeClassifier was fitted with feature names\n",
      "  warnings.warn(\n"
     ]
    }
   ],
   "source": [
    "print(\"Actual Outcome:\",y[21])\n",
    "row=x.iloc[21].values\n",
    "print(\"Value of entire row:\",row,\"\\n\")\n",
    "print(\"Prediction: \",decision_tree_model.predict([row]))"
   ]
  },
  {
   "cell_type": "code",
   "execution_count": 152,
   "metadata": {},
   "outputs": [
    {
     "data": {
      "text/plain": [
       "array([[16394,     0],\n",
       "       [    0,  1184]], dtype=int64)"
      ]
     },
     "execution_count": 152,
     "metadata": {},
     "output_type": "execute_result"
    }
   ],
   "source": [
    "y_predicted=decision_tree_model.predict(X_test)\n",
    "cm=confusion_matrix(y_test,y_predicted)\n",
    "cm"
   ]
  },
  {
   "cell_type": "code",
   "execution_count": 153,
   "metadata": {},
   "outputs": [
    {
     "data": {
      "text/plain": [
       "Text(50.722222222222214, 0.5, 'Actual')"
      ]
     },
     "execution_count": 153,
     "metadata": {},
     "output_type": "execute_result"
    },
    {
     "data": {
      "image/png": "[encoded data removed]",
      "text/plain": [
       "<Figure size 640x480 with 2 Axes>"
      ]
     },
     "metadata": {},
     "output_type": "display_data"
    }
   ],
   "source": [
    "sns.heatmap(cm,annot=True,fmt='d')\n",
    "plt.xlabel(\"Predicted\")\n",
    "plt.ylabel(\"Actual\")"
   ]
  },
  {
   "attachments": {},
   "cell_type": "markdown",
   "metadata": {},
   "source": [
    "#Support Vector Machine(SVM)"
   ]
  },
  {
   "cell_type": "code",
   "execution_count": 154,
   "metadata": {},
   "outputs": [
    {
     "data": {
      "text/html": [
       "<style>#sk-container-id-15 {color: black;background-color: white;}#sk-container-id-15 pre{padding: 0;}#sk-container-id-15 div.sk-toggleable {background-color: white;}#sk-container-id-15 label.sk-toggleable__label {cursor: pointer;display: block;width: 100%;margin-bottom: 0;padding: 0.3em;box-sizing: border-box;text-align: center;}#sk-container-id-15 label.sk-toggleable__label-arrow:before {content: \"▸\";float: left;margin-right: 0.25em;color: #696969;}#sk-container-id-15 label.sk-toggleable__label-arrow:hover:before {color: black;}#sk-container-id-15 div.sk-estimator:hover label.sk-toggleable__label-arrow:before {color: black;}#sk-container-id-15 div.sk-toggleable__content {max-height: 0;max-width: 0;overflow: hidden;text-align: left;background-color: #f0f8ff;}#sk-container-id-15 div.sk-toggleable__content pre {margin: 0.2em;color: black;border-radius: 0.25em;background-color: #f0f8ff;}#sk-container-id-15 input.sk-toggleable__control:checked~div.sk-toggleable__content {max-height: 200px;max-width: 100%;overflow: auto;}#sk-container-id-15 input.sk-toggleable__control:checked~label.sk-toggleable__label-arrow:before {content: \"▾\";}#sk-container-id-15 div.sk-estimator input.sk-toggleable__control:checked~label.sk-toggleable__label {background-color: #d4ebff;}#sk-container-id-15 div.sk-label input.sk-toggleable__control:checked~label.sk-toggleable__label {background-color: #d4ebff;}#sk-container-id-15 input.sk-hidden--visually {border: 0;clip: rect(1px 1px 1px 1px);clip: rect(1px, 1px, 1px, 1px);height: 1px;margin: -1px;overflow: hidden;padding: 0;position: absolute;width: 1px;}#sk-container-id-15 div.sk-estimator {font-family: monospace;background-color: #f0f8ff;border: 1px dotted black;border-radius: 0.25em;box-sizing: border-box;margin-bottom: 0.5em;}#sk-container-id-15 div.sk-estimator:hover {background-color: #d4ebff;}#sk-container-id-15 div.sk-parallel-item::after {content: \"\";width: 100%;border-bottom: 1px solid gray;flex-grow: 1;}#sk-container-id-15 div.sk-label:hover label.sk-toggleable__label {background-color: #d4ebff;}#sk-container-id-15 div.sk-serial::before {content: \"\";position: absolute;border-left: 1px solid gray;box-sizing: border-box;top: 0;bottom: 0;left: 50%;z-index: 0;}#sk-container-id-15 div.sk-serial {display: flex;flex-direction: column;align-items: center;background-color: white;padding-right: 0.2em;padding-left: 0.2em;position: relative;}#sk-container-id-15 div.sk-item {position: relative;z-index: 1;}#sk-container-id-15 div.sk-parallel {display: flex;align-items: stretch;justify-content: center;background-color: white;position: relative;}#sk-container-id-15 div.sk-item::before, #sk-container-id-15 div.sk-parallel-item::before {content: \"\";position: absolute;border-left: 1px solid gray;box-sizing: border-box;top: 0;bottom: 0;left: 50%;z-index: -1;}#sk-container-id-15 div.sk-parallel-item {display: flex;flex-direction: column;z-index: 1;position: relative;background-color: white;}#sk-container-id-15 div.sk-parallel-item:first-child::after {align-self: flex-end;width: 50%;}#sk-container-id-15 div.sk-parallel-item:last-child::after {align-self: flex-start;width: 50%;}#sk-container-id-15 div.sk-parallel-item:only-child::after {width: 0;}#sk-container-id-15 div.sk-dashed-wrapped {border: 1px dashed gray;margin: 0 0.4em 0.5em 0.4em;box-sizing: border-box;padding-bottom: 0.4em;background-color: white;}#sk-container-id-15 div.sk-label label {font-family: monospace;font-weight: bold;display: inline-block;line-height: 1.2em;}#sk-container-id-15 div.sk-label-container {text-align: center;}#sk-container-id-15 div.sk-container {/* jupyter's `normalize.less` sets `[hidden] { display: none; }` but bootstrap.min.css set `[hidden] { display: none !important; }` so we also need the `!important` here to be able to override the default hidden behavior on the sphinx rendered scikit-learn.org. See: https://github.com/scikit-learn/scikit-learn/issues/21755 */display: inline-block !important;position: relative;}#sk-container-id-15 div.sk-text-repr-fallback {display: none;}</style><div id=\"sk-container-id-15\" class=\"sk-top-container\"><div class=\"sk-text-repr-fallback\"><pre>SVC(kernel=&#x27;sigmoid&#x27;)</pre><b>In a Jupyter environment, please rerun this cell to show the HTML representation or trust the notebook. <br />On GitHub, the HTML representation is unable to render, please try loading this page with nbviewer.org.</b></div><div class=\"sk-container\" hidden><div class=\"sk-item\"><div class=\"sk-estimator sk-toggleable\"><input class=\"sk-toggleable__control sk-hidden--visually\" id=\"sk-estimator-id-15\" type=\"checkbox\" checked><label for=\"sk-estimator-id-15\" class=\"sk-toggleable__label sk-toggleable__label-arrow\">SVC</label><div class=\"sk-toggleable__content\"><pre>SVC(kernel=&#x27;sigmoid&#x27;)</pre></div></div></div></div></div>"
      ],
      "text/plain": [
       "SVC(kernel='sigmoid')"
      ]
     },
     "execution_count": 154,
     "metadata": {},
     "output_type": "execute_result"
    }
   ],
   "source": [
    "svm_model=SVC(kernel='sigmoid')\n",
    "X_train,X_test,y_train,y_test=train_test_split(x,y,test_size=0.3)\n",
    "svm_model.fit(X_train,y_train)"
   ]
  },
  {
   "cell_type": "code",
   "execution_count": 155,
   "metadata": {},
   "outputs": [
    {
     "data": {
      "text/plain": [
       "0.9134713846854022"
      ]
     },
     "execution_count": 155,
     "metadata": {},
     "output_type": "execute_result"
    }
   ],
   "source": [
    "acc_svm=svm_model.score(X_test,y_test)\n",
    "acc_svm"
   ]
  },
  {
   "cell_type": "code",
   "execution_count": 156,
   "metadata": {},
   "outputs": [
    {
     "data": {
      "text/plain": [
       "0    16450\n",
       "1     1128\n",
       "Name: is_claim, dtype: int64"
      ]
     },
     "execution_count": 156,
     "metadata": {},
     "output_type": "execute_result"
    }
   ],
   "source": [
    "y_test.value_counts()"
   ]
  },
  {
   "cell_type": "code",
   "execution_count": 157,
   "metadata": {},
   "outputs": [
    {
     "name": "stdout",
     "output_type": "stream",
     "text": [
      "Actual Outcome: 0\n"
     ]
    },
    {
     "name": "stderr",
     "output_type": "stream",
     "text": [
      "f:\\Code\\ML_Exercise\\venv\\lib\\site-packages\\sklearn\\base.py:439: UserWarning: X does not have valid feature names, but SVC was fitted with feature names\n",
      "  warnings.warn(\n"
     ]
    },
    {
     "data": {
      "text/plain": [
       "array([0], dtype=int64)"
      ]
     },
     "execution_count": 157,
     "metadata": {},
     "output_type": "execute_result"
    }
   ],
   "source": [
    "row=x.iloc[4].values\n",
    "print(\"Actual Outcome:\",y[4])\n",
    "svm_model.predict([row])"
   ]
  },
  {
   "cell_type": "code",
   "execution_count": 158,
   "metadata": {},
   "outputs": [
    {
     "name": "stdout",
     "output_type": "stream",
     "text": [
      "[0 0 0 ... 0 0 0]\n"
     ]
    },
    {
     "data": {
      "text/plain": [
       "48541    0\n",
       "21694    0\n",
       "34965    0\n",
       "46291    0\n",
       "37610    0\n",
       "Name: is_claim, dtype: int64"
      ]
     },
     "execution_count": 158,
     "metadata": {},
     "output_type": "execute_result"
    }
   ],
   "source": [
    "y_predicted=svm_model.predict(X_test)\n",
    "print(y_predicted)\n",
    "y_test[:5]"
   ]
  },
  {
   "cell_type": "code",
   "execution_count": 159,
   "metadata": {},
   "outputs": [
    {
     "name": "stderr",
     "output_type": "stream",
     "text": [
      "f:\\Code\\ML_Exercise\\venv\\lib\\site-packages\\seaborn\\_decorators.py:36: FutureWarning: Pass the following variable as a keyword arg: x. From version 0.12, the only valid positional argument will be `data`, and passing other arguments without an explicit keyword will result in an error or misinterpretation.\n",
      "  warnings.warn(\n"
     ]
    },
    {
     "data": {
      "text/plain": [
       "<Axes: ylabel='count'>"
      ]
     },
     "execution_count": 159,
     "metadata": {},
     "output_type": "execute_result"
    },
    {
     "data": {
      "image/png": "[encoded data removed]",
      "text/plain": [
       "<Figure size 640x480 with 1 Axes>"
      ]
     },
     "metadata": {},
     "output_type": "display_data"
    }
   ],
   "source": [
    "sns.countplot(y_predicted)"
   ]
  },
  {
   "cell_type": "code",
   "execution_count": 160,
   "metadata": {},
   "outputs": [
    {
     "data": {
      "text/plain": [
       "array([[16029,   421],\n",
       "       [ 1100,    28]], dtype=int64)"
      ]
     },
     "execution_count": 160,
     "metadata": {},
     "output_type": "execute_result"
    }
   ],
   "source": [
    "cm=confusion_matrix(y_test,y_predicted)\n",
    "cm"
   ]
  },
  {
   "cell_type": "code",
   "execution_count": 161,
   "metadata": {},
   "outputs": [
    {
     "data": {
      "text/plain": [
       "Text(50.722222222222214, 0.5, 'Truth value')"
      ]
     },
     "execution_count": 161,
     "metadata": {},
     "output_type": "execute_result"
    },
    {
     "data": {
      "image/png": "[encoded data removed]",
      "text/plain": [
       "<Figure size 640x480 with 2 Axes>"
      ]
     },
     "metadata": {},
     "output_type": "display_data"
    }
   ],
   "source": [
    "sns.heatmap(cm,annot=True,fmt='d')\n",
    "plt.xlabel(\"Predicted\")\n",
    "plt.ylabel(\"Truth value\")"
   ]
  },
  {
   "attachments": {},
   "cell_type": "markdown",
   "metadata": {},
   "source": [
    "#Logistic Regression"
   ]
  },
  {
   "cell_type": "code",
   "execution_count": 162,
   "metadata": {},
   "outputs": [
    {
     "data": {
      "text/html": [
       "<style>#sk-container-id-16 {color: black;background-color: white;}#sk-container-id-16 pre{padding: 0;}#sk-container-id-16 div.sk-toggleable {background-color: white;}#sk-container-id-16 label.sk-toggleable__label {cursor: pointer;display: block;width: 100%;margin-bottom: 0;padding: 0.3em;box-sizing: border-box;text-align: center;}#sk-container-id-16 label.sk-toggleable__label-arrow:before {content: \"▸\";float: left;margin-right: 0.25em;color: #696969;}#sk-container-id-16 label.sk-toggleable__label-arrow:hover:before {color: black;}#sk-container-id-16 div.sk-estimator:hover label.sk-toggleable__label-arrow:before {color: black;}#sk-container-id-16 div.sk-toggleable__content {max-height: 0;max-width: 0;overflow: hidden;text-align: left;background-color: #f0f8ff;}#sk-container-id-16 div.sk-toggleable__content pre {margin: 0.2em;color: black;border-radius: 0.25em;background-color: #f0f8ff;}#sk-container-id-16 input.sk-toggleable__control:checked~div.sk-toggleable__content {max-height: 200px;max-width: 100%;overflow: auto;}#sk-container-id-16 input.sk-toggleable__control:checked~label.sk-toggleable__label-arrow:before {content: \"▾\";}#sk-container-id-16 div.sk-estimator input.sk-toggleable__control:checked~label.sk-toggleable__label {background-color: #d4ebff;}#sk-container-id-16 div.sk-label input.sk-toggleable__control:checked~label.sk-toggleable__label {background-color: #d4ebff;}#sk-container-id-16 input.sk-hidden--visually {border: 0;clip: rect(1px 1px 1px 1px);clip: rect(1px, 1px, 1px, 1px);height: 1px;margin: -1px;overflow: hidden;padding: 0;position: absolute;width: 1px;}#sk-container-id-16 div.sk-estimator {font-family: monospace;background-color: #f0f8ff;border: 1px dotted black;border-radius: 0.25em;box-sizing: border-box;margin-bottom: 0.5em;}#sk-container-id-16 div.sk-estimator:hover {background-color: #d4ebff;}#sk-container-id-16 div.sk-parallel-item::after {content: \"\";width: 100%;border-bottom: 1px solid gray;flex-grow: 1;}#sk-container-id-16 div.sk-label:hover label.sk-toggleable__label {background-color: #d4ebff;}#sk-container-id-16 div.sk-serial::before {content: \"\";position: absolute;border-left: 1px solid gray;box-sizing: border-box;top: 0;bottom: 0;left: 50%;z-index: 0;}#sk-container-id-16 div.sk-serial {display: flex;flex-direction: column;align-items: center;background-color: white;padding-right: 0.2em;padding-left: 0.2em;position: relative;}#sk-container-id-16 div.sk-item {position: relative;z-index: 1;}#sk-container-id-16 div.sk-parallel {display: flex;align-items: stretch;justify-content: center;background-color: white;position: relative;}#sk-container-id-16 div.sk-item::before, #sk-container-id-16 div.sk-parallel-item::before {content: \"\";position: absolute;border-left: 1px solid gray;box-sizing: border-box;top: 0;bottom: 0;left: 50%;z-index: -1;}#sk-container-id-16 div.sk-parallel-item {display: flex;flex-direction: column;z-index: 1;position: relative;background-color: white;}#sk-container-id-16 div.sk-parallel-item:first-child::after {align-self: flex-end;width: 50%;}#sk-container-id-16 div.sk-parallel-item:last-child::after {align-self: flex-start;width: 50%;}#sk-container-id-16 div.sk-parallel-item:only-child::after {width: 0;}#sk-container-id-16 div.sk-dashed-wrapped {border: 1px dashed gray;margin: 0 0.4em 0.5em 0.4em;box-sizing: border-box;padding-bottom: 0.4em;background-color: white;}#sk-container-id-16 div.sk-label label {font-family: monospace;font-weight: bold;display: inline-block;line-height: 1.2em;}#sk-container-id-16 div.sk-label-container {text-align: center;}#sk-container-id-16 div.sk-container {/* jupyter's `normalize.less` sets `[hidden] { display: none; }` but bootstrap.min.css set `[hidden] { display: none !important; }` so we also need the `!important` here to be able to override the default hidden behavior on the sphinx rendered scikit-learn.org. See: https://github.com/scikit-learn/scikit-learn/issues/21755 */display: inline-block !important;position: relative;}#sk-container-id-16 div.sk-text-repr-fallback {display: none;}</style><div id=\"sk-container-id-16\" class=\"sk-top-container\"><div class=\"sk-text-repr-fallback\"><pre>LogisticRegression()</pre><b>In a Jupyter environment, please rerun this cell to show the HTML representation or trust the notebook. <br />On GitHub, the HTML representation is unable to render, please try loading this page with nbviewer.org.</b></div><div class=\"sk-container\" hidden><div class=\"sk-item\"><div class=\"sk-estimator sk-toggleable\"><input class=\"sk-toggleable__control sk-hidden--visually\" id=\"sk-estimator-id-16\" type=\"checkbox\" checked><label for=\"sk-estimator-id-16\" class=\"sk-toggleable__label sk-toggleable__label-arrow\">LogisticRegression</label><div class=\"sk-toggleable__content\"><pre>LogisticRegression()</pre></div></div></div></div></div>"
      ],
      "text/plain": [
       "LogisticRegression()"
      ]
     },
     "execution_count": 162,
     "metadata": {},
     "output_type": "execute_result"
    }
   ],
   "source": [
    "logistic_model=LogisticRegression()\n",
    "X_train,X_test,y_train,y_test=train_test_split(x,y,test_size=0.2)\n",
    "logistic_model.fit(X_train,y_train)"
   ]
  },
  {
   "cell_type": "code",
   "execution_count": 163,
   "metadata": {},
   "outputs": [
    {
     "data": {
      "text/plain": [
       "0.9350627186620019"
      ]
     },
     "execution_count": 163,
     "metadata": {},
     "output_type": "execute_result"
    }
   ],
   "source": [
    "acc_logistic_R=logistic_model.score(X_test,y_test)\n",
    "acc_logistic_R"
   ]
  },
  {
   "cell_type": "code",
   "execution_count": 164,
   "metadata": {},
   "outputs": [
    {
     "data": {
      "text/plain": [
       "0    10958\n",
       "1      761\n",
       "Name: is_claim, dtype: int64"
      ]
     },
     "execution_count": 164,
     "metadata": {},
     "output_type": "execute_result"
    }
   ],
   "source": [
    "y_test.value_counts()"
   ]
  },
  {
   "cell_type": "code",
   "execution_count": 165,
   "metadata": {},
   "outputs": [
    {
     "name": "stdout",
     "output_type": "stream",
     "text": [
      "Actual Outcome: 1\n"
     ]
    },
    {
     "name": "stderr",
     "output_type": "stream",
     "text": [
      "f:\\Code\\ML_Exercise\\venv\\lib\\site-packages\\sklearn\\base.py:439: UserWarning: X does not have valid feature names, but SVC was fitted with feature names\n",
      "  warnings.warn(\n"
     ]
    },
    {
     "data": {
      "text/plain": [
       "array([0], dtype=int64)"
      ]
     },
     "execution_count": 165,
     "metadata": {},
     "output_type": "execute_result"
    }
   ],
   "source": [
    "row=x.iloc[23].values\n",
    "print(\"Actual Outcome:\",y[23])\n",
    "svm_model.predict([row])"
   ]
  },
  {
   "cell_type": "code",
   "execution_count": 166,
   "metadata": {},
   "outputs": [
    {
     "data": {
      "text/plain": [
       "Text(50.722222222222214, 0.5, 'Truth value')"
      ]
     },
     "execution_count": 166,
     "metadata": {},
     "output_type": "execute_result"
    },
    {
     "data": {
      "image/png": "[encoded data removed]",
      "text/plain": [
       "<Figure size 640x480 with 2 Axes>"
      ]
     },
     "metadata": {},
     "output_type": "display_data"
    }
   ],
   "source": [
    "y_predicted=logistic_model.predict(X_test)\n",
    "cm=confusion_matrix(y_test,y_predicted)\n",
    "sns.heatmap(cm,annot=True,fmt='d')\n",
    "plt.xlabel(\"Predicted\")\n",
    "plt.ylabel(\"Truth value\")"
   ]
  },
  {
   "attachments": {},
   "cell_type": "markdown",
   "metadata": {},
   "source": [
    "#Accuracy Analysis"
   ]
  },
  {
   "cell_type": "code",
   "execution_count": 167,
   "metadata": {},
   "outputs": [
    {
     "data": {
      "text/plain": [
       "<BarContainer object of 4 artists>"
      ]
     },
     "execution_count": 167,
     "metadata": {},
     "output_type": "execute_result"
    },
    {
     "data": {
      "image/png": "[encoded data removed]",
      "text/plain": [
       "<Figure size 640x480 with 1 Axes>"
      ]
     },
     "metadata": {},
     "output_type": "display_data"
    }
   ],
   "source": [
    "algorithm=[\"Random Forest\",\"Decision Tree\",\"SVM\",\"Logistic Regression\"]\n",
    "accuracy=[acc_random_forest,acc_decision_tree,acc_svm,acc_logistic_R]\n",
    "bar_colors = ['tab:red', 'tab:blue', 'tab:red', 'tab:orange']\n",
    "plt.bar(algorithm,accuracy,color=bar_colors)"
   ]
  }
 ],
 "metadata": {
  "kernelspec": {
   "display_name": "venv",
   "language": "python",
   "name": "python3"
  },
  "language_info": {
   "codemirror_mode": {
    "name": "ipython",
    "version": 3
   },
   "file_extension": ".py",
   "mimetype": "text/x-python",
   "name": "python",
   "nbconvert_exporter": "python",
   "pygments_lexer": "ipython3",
   "version": "3.10.7"
  },
  "orig_nbformat": 4
 },
 "nbformat": 4,
 "nbformat_minor": 2
}
